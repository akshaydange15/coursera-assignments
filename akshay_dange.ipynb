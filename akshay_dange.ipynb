{
  "metadata": {
    "kernelspec": {
      "name": "python",
      "display_name": "Pyolite",
      "language": "python"
    },
    "language_info": {
      "codemirror_mode": {
        "name": "python",
        "version": 3
      },
      "file_extension": ".py",
      "mimetype": "text/x-python",
      "name": "python",
      "nbconvert_exporter": "python",
      "pygments_lexer": "ipython3",
      "version": "3.8"
    }
  },
  "nbformat_minor": 4,
  "nbformat": 4,
  "cells": [
    {
      "cell_type": "markdown",
      "source": "<center>\n    <img src=\"https://s3-api.us-geo.objectstorage.softlayer.net/cf-courses-data/CognitiveClass/Logos/organization_logo/organization_logo.png\" width=\"300\" alt=\"cognitiveclass.ai logo\"  />\n</center>\n",
      "metadata": {}
    },
    {
      "cell_type": "markdown",
      "source": "#### Add your code below following the instructions given in the course\n",
      "metadata": {}
    },
    {
      "cell_type": "markdown",
      "source": "<h1>My Jupyter Notebook on IBM Watson Studio</h1>",
      "metadata": {}
    },
    {
      "cell_type": "markdown",
      "source": "**Akshay Ashok Dange**\n\ncurrent occupation - Student\n\ndesired occupation - Data Scientist",
      "metadata": {}
    },
    {
      "cell_type": "markdown",
      "source": "*I am interested in data science because I love ranglling with data of business and come up with effective solution from data points to take an effective Decision*\n",
      "metadata": {}
    },
    {
      "cell_type": "markdown",
      "source": "<h3> Addition operation</h3>",
      "metadata": {}
    },
    {
      "cell_type": "code",
      "source": "a=1\nb=1\nprint(1+b)",
      "metadata": {
        "trusted": true
      },
      "execution_count": 2,
      "outputs": [
        {
          "name": "stdout",
          "text": "2\n",
          "output_type": "stream"
        }
      ]
    },
    {
      "cell_type": "markdown",
      "source": "https://www.google.com/",
      "metadata": {}
    },
    {
      "cell_type": "raw",
      "source": "print(\"akshay\")",
      "metadata": {}
    },
    {
      "cell_type": "markdown",
      "source": "- my name is akshay\n- i stay in India",
      "metadata": {}
    },
    {
      "cell_type": "markdown",
      "source": "[1,2,3,4,5]",
      "metadata": {}
    },
    {
      "cell_type": "code",
      "source": "",
      "metadata": {},
      "execution_count": null,
      "outputs": []
    }
  ]
}